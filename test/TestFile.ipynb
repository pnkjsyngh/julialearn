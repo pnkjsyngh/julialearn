{
 "cells": [
  {
   "cell_type": "code",
   "execution_count": 3,
   "id": "8b6cb605",
   "metadata": {},
   "outputs": [
    {
     "name": "stdout",
     "output_type": "stream",
     "text": [
      "                                                                                \n",
      "                                                                                \n",
      "                                                                                \n",
      "                                                           **                   \n",
      "                                                         ******                 \n",
      "                                                       ********                 \n",
      "                                                         ******                 \n",
      "                                                      ******** **   *           \n",
      "                                              ***   *****************           \n",
      "                                              ************************  ***     \n",
      "                                              ****************************      \n",
      "                                           ******************************       \n",
      "                                            ******************************      \n",
      "                                         ************************************   \n",
      "                                *         **********************************    \n",
      "                           ** ***** *     **********************************    \n",
      "                           ***********   ************************************   \n",
      "                         ************** ************************************    \n",
      "                         ***************************************************    \n",
      "                     *****************************************************      \n",
      " ***********************************************************************        \n",
      "                     *****************************************************      \n",
      "                         ***************************************************    \n",
      "                         ************** ************************************    \n",
      "                           ***********   ************************************   \n",
      "                           ** ***** *     **********************************    \n",
      "                                *         **********************************    \n",
      "                                         ************************************   \n",
      "                                            ******************************      \n",
      "                                           ******************************       \n",
      "                                              ****************************      \n",
      "                                              ************************  ***     \n",
      "                                              ***   *****************           \n",
      "                                                      ******** **   *           \n",
      "                                                         ******                 \n",
      "                                                       ********                 \n",
      "                                                         ******                 \n",
      "                                                           **                   \n",
      "                                                                                \n",
      "                                                                                \n",
      "                                                                                \n"
     ]
    }
   ],
   "source": [
    "function mandelbrot(a)\n",
    "    z = 0\n",
    "    for i=1:50\n",
    "        z = z^2 + a\n",
    "    end\n",
    "    return z\n",
    "end\n",
    "\n",
    "for y=1.0:-0.05:-1.0\n",
    "    for x=-2.0:0.0315:0.5\n",
    "        abs(mandelbrot(complex(x, y))) < 2 ? print(\"*\") : print(\" \")\n",
    "    end\n",
    "    println()\n",
    "end"
   ]
  },
  {
   "cell_type": "code",
   "execution_count": 5,
   "id": "46aef804",
   "metadata": {},
   "outputs": [
    {
     "name": "stdout",
     "output_type": "stream",
     "text": [
      "volume = 113.097\n",
      "result 1: 3.0\n",
      "result 2: -2.0\n"
     ]
    }
   ],
   "source": [
    "function sphere_vol(r)\n",
    "    # julia allows Unicode names (in UTF-8 encoding)\n",
    "    # so either \"pi\" or the symbol π can be used\n",
    "    return 4/3*pi*r^3\n",
    "end\n",
    "\n",
    "# functions can also be defined more succinctly\n",
    "quadratic(a, sqr_term, b) = (-b + sqr_term) / 2a\n",
    "\n",
    "# calculates x for 0 = a*x^2+b*x+c, arguments types can be defined in function definitions\n",
    "function quadratic2(a::Float64, b::Float64, c::Float64)\n",
    "    # unlike other languages 2a is equivalent to 2*a\n",
    "    # a^2 is used instead of a**2 or pow(a,2)\n",
    "    sqr_term = sqrt(b^2-4a*c)\n",
    "    r1 = quadratic(a, sqr_term, b)\n",
    "    r2 = quadratic(a, -sqr_term, b)\n",
    "    # multiple values can be returned from a function using tuples\n",
    "    # if the return keyword is omitted, the last term is returned\n",
    "    r1, r2\n",
    "end\n",
    "\n",
    "using Printf\n",
    "vol = sphere_vol(3)\n",
    "@printf \"volume = %0.3f\\n\" vol \n",
    "\n",
    "quad1, quad2 = quadratic2(2.0, -2.0, -12.0)\n",
    "println(\"result 1: \", quad1)\n",
    "\n",
    "println(\"result 2: \", quad2)"
   ]
  },
  {
   "cell_type": "code",
   "execution_count": null,
   "id": "f9d33415",
   "metadata": {},
   "outputs": [],
   "source": []
  }
 ],
 "metadata": {
  "kernelspec": {
   "display_name": "Julia 1.7.1",
   "language": "julia",
   "name": "julia-1.7"
  },
  "language_info": {
   "file_extension": ".jl",
   "mimetype": "application/julia",
   "name": "julia",
   "version": "1.7.1"
  }
 },
 "nbformat": 4,
 "nbformat_minor": 5
}
